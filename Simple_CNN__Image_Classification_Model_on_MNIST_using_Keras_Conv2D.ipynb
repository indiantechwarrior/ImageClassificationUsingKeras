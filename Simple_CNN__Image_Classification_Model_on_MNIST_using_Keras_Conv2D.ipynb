{
  "nbformat": 4,
  "nbformat_minor": 0,
  "metadata": {
    "colab": {
      "name": "Simple_CNN_ Image_Classification_Model_on_MNIST_using_Keras Conv2D.ipynb",
      "provenance": [],
      "collapsed_sections": [],
      "toc_visible": true,
      "authorship_tag": "ABX9TyMl82zOLzRYZspWjuMzEpv/",
      "include_colab_link": true
    },
    "kernelspec": {
      "name": "python3",
      "display_name": "Python 3"
    },
    "language_info": {
      "name": "python"
    }
  },
  "cells": [
    {
      "cell_type": "markdown",
      "metadata": {
        "id": "view-in-github",
        "colab_type": "text"
      },
      "source": [
        "<a href=\"https://colab.research.google.com/github/indiantechwarrior/ImageClassificationUsingKeras/blob/main/Simple_CNN__Image_Classification_Model_on_MNIST_using_Keras_Conv2D.ipynb\" target=\"_parent\"><img src=\"https://colab.research.google.com/assets/colab-badge.svg\" alt=\"Open In Colab\"/></a>"
      ]
    },
    {
      "cell_type": "markdown",
      "metadata": {
        "id": "4HIOreR3cpRq"
      },
      "source": [
        "**Step 1 - Load DataSet**"
      ]
    },
    {
      "cell_type": "code",
      "metadata": {
        "id": "mnP4TmkUFcR1",
        "colab": {
          "base_uri": "https://localhost:8080/"
        },
        "outputId": "a91d11d2-eb6b-4eb1-c64f-d04e8fd80f35"
      },
      "source": [
        "from keras.datasets import mnist\n",
        "(X_train, y_train), (X_test, y_test) = mnist.load_data()"
      ],
      "execution_count": null,
      "outputs": [
        {
          "output_type": "stream",
          "text": [
            "Downloading data from https://storage.googleapis.com/tensorflow/tf-keras-datasets/mnist.npz\n",
            "11493376/11490434 [==============================] - 0s 0us/step\n"
          ],
          "name": "stdout"
        }
      ]
    },
    {
      "cell_type": "markdown",
      "metadata": {
        "id": "QfekMqZ1GGrb"
      },
      "source": [
        "**Step 2 - Data Analysis** "
      ]
    },
    {
      "cell_type": "code",
      "metadata": {
        "colab": {
          "base_uri": "https://localhost:8080/",
          "height": 281
        },
        "id": "rdkfgCgsFCcj",
        "outputId": "3b2360fa-ce2a-443c-f4ee-c0233b38c198"
      },
      "source": [
        "import matplotlib.pyplot as plt\n",
        "plt.imshow(X_train[2])"
      ],
      "execution_count": null,
      "outputs": [
        {
          "output_type": "execute_result",
          "data": {
            "text/plain": [
              "<matplotlib.image.AxesImage at 0x7f7a0f0e2450>"
            ]
          },
          "metadata": {
            "tags": []
          },
          "execution_count": 2
        },
        {
          "output_type": "display_data",
          "data": {
            "image/png": "[encoded data removed]",
            "text/plain": [
              "<Figure size 432x288 with 1 Axes>"
            ]
          },
          "metadata": {
            "tags": [],
            "needs_background": "light"
          }
        }
      ]
    },
    {
      "cell_type": "code",
      "metadata": {
        "colab": {
          "base_uri": "https://localhost:8080/"
        },
        "id": "qEasGPnuGb2c",
        "outputId": "117670f8-97c1-4cde-f5f8-c3494814827e"
      },
      "source": [
        "X_train[2].shape"
      ],
      "execution_count": null,
      "outputs": [
        {
          "output_type": "execute_result",
          "data": {
            "text/plain": [
              "(28, 28)"
            ]
          },
          "metadata": {
            "tags": []
          },
          "execution_count": 3
        }
      ]
    },
    {
      "cell_type": "markdown",
      "metadata": {
        "id": "sMoG3OKvGj9K"
      },
      "source": [
        " **Step 3 - Pre-processing Data**"
      ]
    },
    {
      "cell_type": "markdown",
      "metadata": {
        "id": "f_glWT-CH-4K"
      },
      "source": [
        "**reshape the dataset**"
      ]
    },
    {
      "cell_type": "code",
      "metadata": {
        "id": "wbN__TgBGSB9"
      },
      "source": [
        "X_train = X_train.reshape(60000,28,28,1)\n",
        "X_test = X_test.reshape(10000,28,28,1)"
      ],
      "execution_count": null,
      "outputs": []
    },
    {
      "cell_type": "markdown",
      "metadata": {
        "id": "NdvVzXCKJzZ1"
      },
      "source": [
        "**apply one-hot-encode**\n",
        "\n"
      ]
    },
    {
      "cell_type": "code",
      "metadata": {
        "colab": {
          "base_uri": "https://localhost:8080/"
        },
        "id": "npn8XfevK1xV",
        "outputId": "4137d841-8e95-43fa-a692-5296d175946a"
      },
      "source": [
        "from keras.utils import to_categorical\n",
        "y_train = to_categorical(y_train)\n",
        "y_test = to_categorical(y_test)\n",
        "y_train[2]"
      ],
      "execution_count": null,
      "outputs": [
        {
          "output_type": "execute_result",
          "data": {
            "text/plain": [
              "array([0., 0., 0., 0., 1., 0., 0., 0., 0., 0.], dtype=float32)"
            ]
          },
          "metadata": {
            "tags": []
          },
          "execution_count": 5
        }
      ]
    },
    {
      "cell_type": "markdown",
      "metadata": {
        "id": "ZYT2cNbHK646"
      },
      "source": [
        "**Step 4 - Build the model**"
      ]
    },
    {
      "cell_type": "code",
      "metadata": {
        "id": "7wt0hFdQK9FU"
      },
      "source": [
        "from keras.models import Sequential\n",
        "from keras.layers import Dense, Conv2D, Flatten, MaxPooling2D\n",
        "#create model\n",
        "model = Sequential()\n",
        "#add model layers\n",
        "model.add(Conv2D(64, kernel_size=(3,3), activation='relu', input_shape=(28,28,1)))\n",
        "model.add(MaxPooling2D(pool_size=(2, 2), strides=(2, 2)))\n",
        "model.add(Conv2D(32, kernel_size=(3,3), activation='relu'))\n",
        "model.add(MaxPooling2D(pool_size=(2, 2))) \n",
        "model.add(Flatten())\n",
        "model.add(Dense(10, activation='softmax'))"
      ],
      "execution_count": null,
      "outputs": []
    },
    {
      "cell_type": "markdown",
      "metadata": {
        "id": "41TBcWc5hEHR"
      },
      "source": [
        "**Step 5 - Compile the model**"
      ]
    },
    {
      "cell_type": "code",
      "metadata": {
        "id": "xl8PyQWULhkO"
      },
      "source": [
        "model.compile(optimizer='adam', loss='categorical_crossentropy', metrics=['accuracy'])"
      ],
      "execution_count": null,
      "outputs": []
    },
    {
      "cell_type": "markdown",
      "metadata": {
        "id": "vvMIuA4xhjwU"
      },
      "source": [
        "**Step 6 - Train the model**\n"
      ]
    },
    {
      "cell_type": "code",
      "metadata": {
        "id": "D-esps8QMHT5",
        "colab": {
          "base_uri": "https://localhost:8080/"
        },
        "outputId": "5f02f12a-6787-4e71-e412-3d8d8af06fc7"
      },
      "source": [
        "model.fit(X_train, y_train, validation_data=(X_test, y_test), epochs=3)"
      ],
      "execution_count": null,
      "outputs": [
        {
          "output_type": "stream",
          "text": [
            "Epoch 1/3\n",
            "1875/1875 [==============================] - 68s 36ms/step - loss: 0.9040 - accuracy: 0.8696 - val_loss: 0.1113 - val_accuracy: 0.9657\n",
            "Epoch 2/3\n",
            "1875/1875 [==============================] - 67s 36ms/step - loss: 0.0773 - accuracy: 0.9766 - val_loss: 0.0599 - val_accuracy: 0.9806\n",
            "Epoch 3/3\n",
            "1875/1875 [==============================] - 69s 37ms/step - loss: 0.0589 - accuracy: 0.9815 - val_loss: 0.0589 - val_accuracy: 0.9825\n"
          ],
          "name": "stdout"
        },
        {
          "output_type": "execute_result",
          "data": {
            "text/plain": [
              "<tensorflow.python.keras.callbacks.History at 0x7f7a0b24ad50>"
            ]
          },
          "metadata": {
            "tags": []
          },
          "execution_count": 9
        }
      ]
    },
    {
      "cell_type": "markdown",
      "metadata": {
        "id": "D5VAPyGYi67v"
      },
      "source": [
        "**Step 7 - Prediction using model**"
      ]
    },
    {
      "cell_type": "code",
      "metadata": {
        "id": "jp7gERbkN89i",
        "colab": {
          "base_uri": "https://localhost:8080/"
        },
        "outputId": "d581e0e8-b9e8-4c03-b287-b41e35c19be0"
      },
      "source": [
        "model.predict(X_test[:4])"
      ],
      "execution_count": null,
      "outputs": [
        {
          "output_type": "execute_result",
          "data": {
            "text/plain": [
              "array([[1.3102794e-08, 5.7612088e-09, 2.5358004e-06, 1.0725582e-05,\n",
              "        4.0970023e-11, 1.2555329e-11, 1.3442111e-14, 9.9998653e-01,\n",
              "        2.8975186e-10, 1.9177338e-07],\n",
              "       [1.1750292e-05, 4.3714895e-06, 9.9994528e-01, 8.6990656e-07,\n",
              "        4.8572701e-09, 1.3811893e-12, 3.6416524e-05, 2.6864830e-10,\n",
              "        1.1470223e-06, 7.8156409e-10],\n",
              "       [9.6163103e-07, 9.9980944e-01, 2.6646937e-06, 8.0516713e-09,\n",
              "        1.5982852e-04, 1.2285403e-06, 3.3691408e-06, 1.2078067e-05,\n",
              "        1.0010319e-05, 4.8704840e-07],\n",
              "       [9.9970251e-01, 4.5743329e-10, 2.2501531e-07, 3.0575620e-09,\n",
              "        5.6131086e-07, 9.9300532e-09, 2.9205516e-04, 9.7944253e-10,\n",
              "        3.4157374e-06, 1.1490416e-06]], dtype=float32)"
            ]
          },
          "metadata": {
            "tags": []
          },
          "execution_count": 10
        }
      ]
    },
    {
      "cell_type": "markdown",
      "metadata": {
        "id": "1F8VG1NSObEs"
      },
      "source": [
        "**Step 8 - Final Ouput**"
      ]
    },
    {
      "cell_type": "code",
      "metadata": {
        "id": "wolP3jrNN_Fz",
        "colab": {
          "base_uri": "https://localhost:8080/"
        },
        "outputId": "17254093-dfa6-4d57-9930-0c4ff685d92a"
      },
      "source": [
        "y_test[:4]"
      ],
      "execution_count": null,
      "outputs": [
        {
          "output_type": "execute_result",
          "data": {
            "text/plain": [
              "array([[0., 0., 0., 0., 0., 0., 0., 1., 0., 0.],\n",
              "       [0., 0., 1., 0., 0., 0., 0., 0., 0., 0.],\n",
              "       [0., 1., 0., 0., 0., 0., 0., 0., 0., 0.],\n",
              "       [1., 0., 0., 0., 0., 0., 0., 0., 0., 0.]], dtype=float32)"
            ]
          },
          "metadata": {
            "tags": []
          },
          "execution_count": 11
        }
      ]
    }
  ]
}